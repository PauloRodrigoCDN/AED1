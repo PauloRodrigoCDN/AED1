{
 "cells": [
  {
   "cell_type": "code",
   "execution_count": 2,
   "id": "40ccbb3e-8522-4e9c-838c-d2792eb9bfa6",
   "metadata": {},
   "outputs": [
    {
     "name": "stdout",
     "output_type": "stream",
     "text": [
      "hello World!\n"
     ]
    }
   ],
   "source": [
    "print(\"hello World!\")"
   ]
  },
  {
   "cell_type": "code",
   "execution_count": 8,
   "id": "9a7a3f34-b349-487a-8c0e-b4a6c5edd5e7",
   "metadata": {},
   "outputs": [],
   "source": [
    "nome = \"paulo\""
   ]
  },
  {
   "cell_type": "code",
   "execution_count": 9,
   "id": "c01e6c64-35b8-4607-ab40-1c4007bf5859",
   "metadata": {},
   "outputs": [
    {
     "data": {
      "text/plain": [
       "'paulo'"
      ]
     },
     "execution_count": 9,
     "metadata": {},
     "output_type": "execute_result"
    }
   ],
   "source": [
    "nome"
   ]
  },
  {
   "cell_type": "code",
   "execution_count": 11,
   "id": "543f0867-afeb-4e68-987d-32a2cc6f33a7",
   "metadata": {},
   "outputs": [
    {
     "name": "stdout",
     "output_type": "stream",
     "text": [
      "paulo\n"
     ]
    }
   ],
   "source": [
    "print(nome)"
   ]
  },
  {
   "cell_type": "code",
   "execution_count": 12,
   "id": "5a0653e2-bf50-4e64-b58c-842465719df7",
   "metadata": {},
   "outputs": [],
   "source": [
    "x = 345"
   ]
  },
  {
   "cell_type": "code",
   "execution_count": 13,
   "id": "ae2ab49f-64dd-417c-b441-7a919c31b7cb",
   "metadata": {},
   "outputs": [],
   "source": [
    "y = x + 2"
   ]
  },
  {
   "cell_type": "code",
   "execution_count": 14,
   "id": "8f52aeae-ba02-4c1b-a2d0-338a6bf8fff3",
   "metadata": {},
   "outputs": [
    {
     "data": {
      "text/plain": [
       "347"
      ]
     },
     "execution_count": 14,
     "metadata": {},
     "output_type": "execute_result"
    }
   ],
   "source": [
    "y"
   ]
  },
  {
   "cell_type": "code",
   "execution_count": 15,
   "id": "632b1b12-3a9d-452c-b5e9-0d9e11ed189b",
   "metadata": {},
   "outputs": [],
   "source": [
    "a = 5"
   ]
  },
  {
   "cell_type": "code",
   "execution_count": 16,
   "id": "d6eb3f09-7124-4b62-a52e-75cf1663ceef",
   "metadata": {},
   "outputs": [
    {
     "data": {
      "text/plain": [
       "int"
      ]
     },
     "execution_count": 16,
     "metadata": {},
     "output_type": "execute_result"
    }
   ],
   "source": [
    "type(a)"
   ]
  },
  {
   "cell_type": "code",
   "execution_count": 17,
   "id": "2c1853d9-db3f-4c46-82e3-f968c0e69e14",
   "metadata": {},
   "outputs": [
    {
     "ename": "NameError",
     "evalue": "name 'true' is not defined",
     "output_type": "error",
     "traceback": [
      "\u001b[1;31m---------------------------------------------------------------------------\u001b[0m",
      "\u001b[1;31mNameError\u001b[0m                                 Traceback (most recent call last)",
      "Cell \u001b[1;32mIn[17], line 1\u001b[0m\n\u001b[1;32m----> 1\u001b[0m a \u001b[38;5;241m=\u001b[39m true\n",
      "\u001b[1;31mNameError\u001b[0m: name 'true' is not defined"
     ]
    }
   ],
   "source": [
    "a = true"
   ]
  },
  {
   "cell_type": "code",
   "execution_count": 18,
   "id": "4889137a-3f5b-4bbe-8711-d54332968059",
   "metadata": {},
   "outputs": [
    {
     "data": {
      "text/plain": [
       "4"
      ]
     },
     "execution_count": 18,
     "metadata": {},
     "output_type": "execute_result"
    }
   ],
   "source": [
    "a - True"
   ]
  },
  {
   "cell_type": "code",
   "execution_count": 19,
   "id": "fca1f630-364a-44e3-be95-d5cc5ec23f1e",
   "metadata": {},
   "outputs": [
    {
     "data": {
      "text/plain": [
       "int"
      ]
     },
     "execution_count": 19,
     "metadata": {},
     "output_type": "execute_result"
    }
   ],
   "source": [
    "type(a)"
   ]
  },
  {
   "cell_type": "code",
   "execution_count": 20,
   "id": "3d581e5a-1853-4612-bc71-9e634bfdd239",
   "metadata": {},
   "outputs": [],
   "source": [
    "a = True"
   ]
  },
  {
   "cell_type": "code",
   "execution_count": 21,
   "id": "89345df2-1737-417b-a212-ef4bd3959802",
   "metadata": {},
   "outputs": [
    {
     "data": {
      "text/plain": [
       "bool"
      ]
     },
     "execution_count": 21,
     "metadata": {},
     "output_type": "execute_result"
    }
   ],
   "source": [
    "type(a)"
   ]
  },
  {
   "cell_type": "code",
   "execution_count": 22,
   "id": "300277d8-38f6-406d-a978-c0fa10882825",
   "metadata": {},
   "outputs": [],
   "source": [
    "a = 5.6"
   ]
  },
  {
   "cell_type": "code",
   "execution_count": 23,
   "id": "9f7625bf-e3c7-40e2-be2d-3cf2841eef2b",
   "metadata": {},
   "outputs": [
    {
     "data": {
      "text/plain": [
       "float"
      ]
     },
     "execution_count": 23,
     "metadata": {},
     "output_type": "execute_result"
    }
   ],
   "source": [
    "type(a)"
   ]
  },
  {
   "cell_type": "code",
   "execution_count": 24,
   "id": "de09262e-2040-4733-8e3d-24a167bf8017",
   "metadata": {},
   "outputs": [],
   "source": [
    "x = 45\n",
    "y = 23"
   ]
  },
  {
   "cell_type": "code",
   "execution_count": 25,
   "id": "a2a1bdba-386c-42bd-8db8-b2749bcb073c",
   "metadata": {},
   "outputs": [],
   "source": [
    "soma = x + y"
   ]
  },
  {
   "cell_type": "code",
   "execution_count": 26,
   "id": "27d03545-407d-4a7d-8692-d89885828441",
   "metadata": {},
   "outputs": [
    {
     "data": {
      "text/plain": [
       "int"
      ]
     },
     "execution_count": 26,
     "metadata": {},
     "output_type": "execute_result"
    }
   ],
   "source": [
    "type(soma)\n"
   ]
  },
  {
   "cell_type": "code",
   "execution_count": 27,
   "id": "957878fa-a563-48ef-9ebd-0e7d2a548e09",
   "metadata": {},
   "outputs": [
    {
     "name": "stdout",
     "output_type": "stream",
     "text": [
      "68\n"
     ]
    }
   ],
   "source": [
    "print(soma)"
   ]
  },
  {
   "cell_type": "code",
   "execution_count": 28,
   "id": "8f5c2409-a526-4b2d-a4d7-865e2d9b9cfe",
   "metadata": {},
   "outputs": [
    {
     "data": {
      "text/plain": [
       "1.9565217391304348"
      ]
     },
     "execution_count": 28,
     "metadata": {},
     "output_type": "execute_result"
    }
   ],
   "source": [
    "x / y"
   ]
  },
  {
   "cell_type": "code",
   "execution_count": 29,
   "id": "b43c42c6-d431-40bf-bc41-93f3a1a0cc54",
   "metadata": {},
   "outputs": [
    {
     "data": {
      "text/plain": [
       "1"
      ]
     },
     "execution_count": 29,
     "metadata": {},
     "output_type": "execute_result"
    }
   ],
   "source": [
    "x//y"
   ]
  },
  {
   "cell_type": "code",
   "execution_count": 30,
   "id": "12b2c882-002c-439a-b599-ef5415db8ae9",
   "metadata": {},
   "outputs": [
    {
     "data": {
      "text/plain": [
       "22"
      ]
     },
     "execution_count": 30,
     "metadata": {},
     "output_type": "execute_result"
    }
   ],
   "source": [
    "x % y"
   ]
  },
  {
   "cell_type": "code",
   "execution_count": 31,
   "id": "950c470d-b859-4ace-a4b2-393d82720a14",
   "metadata": {},
   "outputs": [],
   "source": [
    "r = 10_000_000_000"
   ]
  },
  {
   "cell_type": "code",
   "execution_count": 32,
   "id": "85158c9b-cc15-4553-bb8a-7db934fb8438",
   "metadata": {},
   "outputs": [
    {
     "data": {
      "text/plain": [
       "10000000000"
      ]
     },
     "execution_count": 32,
     "metadata": {},
     "output_type": "execute_result"
    }
   ],
   "source": [
    "r"
   ]
  },
  {
   "cell_type": "code",
   "execution_count": 33,
   "id": "47843a11-b82e-449c-ab40-63bcea71b661",
   "metadata": {},
   "outputs": [
    {
     "data": {
      "text/plain": [
       "105654455657631171893227100372314453125"
      ]
     },
     "execution_count": 33,
     "metadata": {},
     "output_type": "execute_result"
    }
   ],
   "source": [
    "x ** y"
   ]
  },
  {
   "cell_type": "code",
   "execution_count": 34,
   "id": "c791ea53-76df-4090-89eb-662bef710a5f",
   "metadata": {},
   "outputs": [],
   "source": [
    "y = 4.5"
   ]
  },
  {
   "cell_type": "code",
   "execution_count": 35,
   "id": "dd5def42-4a45-45ad-81a5-1237603c24ca",
   "metadata": {},
   "outputs": [
    {
     "data": {
      "text/plain": [
       "float"
      ]
     },
     "execution_count": 35,
     "metadata": {},
     "output_type": "execute_result"
    }
   ],
   "source": [
    "type(y)"
   ]
  },
  {
   "cell_type": "code",
   "execution_count": 39,
   "id": "7251985a-9956-4967-aad2-ff4fa95f2eb4",
   "metadata": {},
   "outputs": [],
   "source": [
    "soma = x + y\n",
    "divisao = x / y"
   ]
  },
  {
   "cell_type": "code",
   "execution_count": 40,
   "id": "98ead188-cba4-447c-ae9a-990b2d1f6ed6",
   "metadata": {},
   "outputs": [
    {
     "data": {
      "text/plain": [
       "float"
      ]
     },
     "execution_count": 40,
     "metadata": {},
     "output_type": "execute_result"
    }
   ],
   "source": [
    "type(divisao)"
   ]
  },
  {
   "cell_type": "code",
   "execution_count": 41,
   "id": "a3522cc9-ab6b-44c4-8325-7e3e48b9caf0",
   "metadata": {},
   "outputs": [
    {
     "data": {
      "text/plain": [
       "0.0"
      ]
     },
     "execution_count": 41,
     "metadata": {},
     "output_type": "execute_result"
    }
   ],
   "source": [
    "y - 4.5"
   ]
  },
  {
   "cell_type": "code",
   "execution_count": 42,
   "id": "df9fc70b-aed9-4428-8ba5-6faaf69ad096",
   "metadata": {},
   "outputs": [],
   "source": [
    "y = 4.5"
   ]
  },
  {
   "cell_type": "code",
   "execution_count": 43,
   "id": "2de88df2-8b14-4d0d-910f-7eb417de5240",
   "metadata": {},
   "outputs": [
    {
     "data": {
      "text/plain": [
       "float"
      ]
     },
     "execution_count": 43,
     "metadata": {},
     "output_type": "execute_result"
    }
   ],
   "source": [
    "type(y)"
   ]
  },
  {
   "cell_type": "code",
   "execution_count": 44,
   "id": "45284add-4244-4eb5-9664-365737aca710",
   "metadata": {},
   "outputs": [
    {
     "data": {
      "text/plain": [
       "4"
      ]
     },
     "execution_count": 44,
     "metadata": {},
     "output_type": "execute_result"
    }
   ],
   "source": [
    "int(y)"
   ]
  },
  {
   "cell_type": "code",
   "execution_count": 45,
   "id": "38aa4e3e-78be-448a-a005-c8fd8feb6a87",
   "metadata": {},
   "outputs": [],
   "source": [
    "x = True"
   ]
  },
  {
   "cell_type": "code",
   "execution_count": 46,
   "id": "39065775-cecd-40f6-ae0e-0ebe3235a71e",
   "metadata": {},
   "outputs": [
    {
     "data": {
      "text/plain": [
       "True"
      ]
     },
     "execution_count": 46,
     "metadata": {},
     "output_type": "execute_result"
    }
   ],
   "source": [
    "x"
   ]
  },
  {
   "cell_type": "code",
   "execution_count": 47,
   "id": "a4debd50-2fe0-4936-af67-863dd773757f",
   "metadata": {},
   "outputs": [],
   "source": [
    "y = False"
   ]
  },
  {
   "cell_type": "code",
   "execution_count": 48,
   "id": "654309c6-2ae9-474f-9d0c-ae46ed47d3da",
   "metadata": {},
   "outputs": [
    {
     "data": {
      "text/plain": [
       "False"
      ]
     },
     "execution_count": 48,
     "metadata": {},
     "output_type": "execute_result"
    }
   ],
   "source": [
    "x and y"
   ]
  },
  {
   "cell_type": "code",
   "execution_count": 49,
   "id": "592db1ba-e0d0-4d14-aee6-3d43245ce854",
   "metadata": {},
   "outputs": [
    {
     "data": {
      "text/plain": [
       "True"
      ]
     },
     "execution_count": 49,
     "metadata": {},
     "output_type": "execute_result"
    }
   ],
   "source": [
    "x or y"
   ]
  },
  {
   "cell_type": "code",
   "execution_count": 50,
   "id": "a0561b57-31d7-4c91-b0db-47739fe21100",
   "metadata": {},
   "outputs": [
    {
     "data": {
      "text/plain": [
       "False"
      ]
     },
     "execution_count": 50,
     "metadata": {},
     "output_type": "execute_result"
    }
   ],
   "source": [
    "not x"
   ]
  },
  {
   "cell_type": "code",
   "execution_count": 51,
   "id": "78de1790-43d0-4a5a-b0fa-902c2d94d6b5",
   "metadata": {},
   "outputs": [],
   "source": [
    "nome = 'Paulo'"
   ]
  },
  {
   "cell_type": "code",
   "execution_count": 52,
   "id": "ee3c3040-22ce-4e0e-b31e-7cbe58697831",
   "metadata": {},
   "outputs": [
    {
     "data": {
      "text/plain": [
       "str"
      ]
     },
     "execution_count": 52,
     "metadata": {},
     "output_type": "execute_result"
    }
   ],
   "source": [
    "type(nome)"
   ]
  },
  {
   "cell_type": "code",
   "execution_count": 53,
   "id": "299e7f67-dae8-4a96-aa46-dc5ef8861719",
   "metadata": {},
   "outputs": [],
   "source": [
    "prenome = 'Andrade'"
   ]
  },
  {
   "cell_type": "code",
   "execution_count": 54,
   "id": "f6af6387-5212-447a-959b-452707304887",
   "metadata": {},
   "outputs": [],
   "source": [
    "nome_completo = prenome + ' ' + nome"
   ]
  },
  {
   "cell_type": "code",
   "execution_count": 55,
   "id": "122d82a2-6f78-49c2-a462-041783b0fdf6",
   "metadata": {},
   "outputs": [
    {
     "data": {
      "text/plain": [
       "'Andrade Paulo'"
      ]
     },
     "execution_count": 55,
     "metadata": {},
     "output_type": "execute_result"
    }
   ],
   "source": [
    "nome_completo"
   ]
  },
  {
   "cell_type": "code",
   "execution_count": 58,
   "id": "36a2ac5a-fe25-4ef9-a8b9-a91d78a17558",
   "metadata": {},
   "outputs": [],
   "source": [
    "nome_completo = nome + ' ' + prenome"
   ]
  },
  {
   "cell_type": "code",
   "execution_count": 57,
   "id": "6fa82d80-d40a-44b1-96e0-5a8c79146335",
   "metadata": {},
   "outputs": [
    {
     "data": {
      "text/plain": [
       "'Paulo Andrade'"
      ]
     },
     "execution_count": 57,
     "metadata": {},
     "output_type": "execute_result"
    }
   ],
   "source": [
    "nome_completo"
   ]
  },
  {
   "cell_type": "code",
   "execution_count": 59,
   "id": "09378891-47ad-4efc-92be-aceae56badfa",
   "metadata": {},
   "outputs": [
    {
     "data": {
      "text/plain": [
       "'PauloPauloPauloPaulo'"
      ]
     },
     "execution_count": 59,
     "metadata": {},
     "output_type": "execute_result"
    }
   ],
   "source": [
    "nome * 4"
   ]
  },
  {
   "cell_type": "code",
   "execution_count": 60,
   "id": "230aa8d3-4657-4ccb-a20d-1b0ba2c9794b",
   "metadata": {},
   "outputs": [
    {
     "data": {
      "text/plain": [
       "'P'"
      ]
     },
     "execution_count": 60,
     "metadata": {},
     "output_type": "execute_result"
    }
   ],
   "source": [
    "nome[0]"
   ]
  },
  {
   "cell_type": "code",
   "execution_count": 62,
   "id": "a18c7af2-f243-4a42-8f6c-69dd4a38804c",
   "metadata": {},
   "outputs": [
    {
     "data": {
      "text/plain": [
       "'a'"
      ]
     },
     "execution_count": 62,
     "metadata": {},
     "output_type": "execute_result"
    }
   ],
   "source": [
    "chr(97)"
   ]
  },
  {
   "cell_type": "code",
   "execution_count": 63,
   "id": "6e2c88b4-59de-4bd4-a5c3-996acd717d57",
   "metadata": {},
   "outputs": [
    {
     "data": {
      "text/plain": [
       "97"
      ]
     },
     "execution_count": 63,
     "metadata": {},
     "output_type": "execute_result"
    }
   ],
   "source": [
    "ord('a')"
   ]
  },
  {
   "cell_type": "code",
   "execution_count": null,
   "id": "41d63a77-3291-4179-b996-00e06562fb50",
   "metadata": {},
   "outputs": [],
   "source": []
  }
 ],
 "metadata": {
  "kernelspec": {
   "display_name": "Python 3 (ipykernel)",
   "language": "python",
   "name": "python3"
  },
  "language_info": {
   "codemirror_mode": {
    "name": "ipython",
    "version": 3
   },
   "file_extension": ".py",
   "mimetype": "text/x-python",
   "name": "python",
   "nbconvert_exporter": "python",
   "pygments_lexer": "ipython3",
   "version": "3.12.4"
  }
 },
 "nbformat": 4,
 "nbformat_minor": 5
}
